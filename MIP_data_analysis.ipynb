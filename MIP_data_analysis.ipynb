{
  "nbformat": 4,
  "nbformat_minor": 0,
  "metadata": {
    "colab": {
      "provenance": [],
      "toc_visible": true,
      "authorship_tag": "ABX9TyPRYqmNYl86qnqV2vHq8Fhr",
      "include_colab_link": true
    },
    "kernelspec": {
      "name": "python3",
      "display_name": "Python 3"
    },
    "language_info": {
      "name": "python"
    }
  },
  "cells": [
    {
      "cell_type": "markdown",
      "metadata": {
        "id": "view-in-github",
        "colab_type": "text"
      },
      "source": [
        "<a href=\"https://colab.research.google.com/github/nkd98/mip-automation-project/blob/main/MIP_data_analysis.ipynb\" target=\"_parent\"><img src=\"https://colab.research.google.com/assets/colab-badge.svg\" alt=\"Open In Colab\"/></a>"
      ]
    },
    {
      "cell_type": "code",
      "source": [
        "# MIP Data Analysis\n",
        "# Author: Niruj Deka\n",
        "# Last Updated: 31-Dec-24"
      ],
      "metadata": {
        "id": "irRtlPKREG9V"
      },
      "execution_count": 1,
      "outputs": []
    },
    {
      "cell_type": "markdown",
      "source": [
        "# Introduction and Setup"
      ],
      "metadata": {
        "id": "pREgrL0tHdus"
      }
    },
    {
      "cell_type": "code",
      "source": [
        "# prompt: install all the neccesary packages to run this notebook\n",
        "\n",
        "!pip install pandas\n"
      ],
      "metadata": {
        "colab": {
          "base_uri": "https://localhost:8080/"
        },
        "id": "i01SKPz9H9nO",
        "outputId": "9d5c2305-667b-41d8-f0a9-93a254f29806"
      },
      "execution_count": 2,
      "outputs": [
        {
          "output_type": "stream",
          "name": "stdout",
          "text": [
            "Requirement already satisfied: pandas in /usr/local/lib/python3.10/dist-packages (2.2.2)\n",
            "Requirement already satisfied: numpy>=1.22.4 in /usr/local/lib/python3.10/dist-packages (from pandas) (1.26.4)\n",
            "Requirement already satisfied: python-dateutil>=2.8.2 in /usr/local/lib/python3.10/dist-packages (from pandas) (2.8.2)\n",
            "Requirement already satisfied: pytz>=2020.1 in /usr/local/lib/python3.10/dist-packages (from pandas) (2024.2)\n",
            "Requirement already satisfied: tzdata>=2022.7 in /usr/local/lib/python3.10/dist-packages (from pandas) (2024.2)\n",
            "Requirement already satisfied: six>=1.5 in /usr/local/lib/python3.10/dist-packages (from python-dateutil>=2.8.2->pandas) (1.17.0)\n"
          ]
        }
      ]
    },
    {
      "cell_type": "code",
      "source": [
        "# importing pacakges\n",
        "import pandas as pd\n"
      ],
      "metadata": {
        "id": "DqPP2-XASAKF"
      },
      "execution_count": 3,
      "outputs": []
    },
    {
      "cell_type": "code",
      "execution_count": 4,
      "metadata": {
        "colab": {
          "base_uri": "https://localhost:8080/"
        },
        "id": "RrCNdWAv1Y4g",
        "outputId": "1e61cb99-e622-4fdb-fc7a-2e8a6fd42dce"
      },
      "outputs": [
        {
          "output_type": "stream",
          "name": "stdout",
          "text": [
            "Mounted at /content/drive\n"
          ]
        }
      ],
      "source": [
        "# provide access to Google Drive. Authorise Google Drive when prompted\n",
        "from google.colab import drive\n",
        "drive.mount('/content/drive')"
      ]
    },
    {
      "cell_type": "code",
      "source": [
        "# check currect working directory\n",
        "!pwd\n",
        "\n",
        "## Please ensure that the folder you will be working with is in your Drive.\n",
        "## If it is a shared folder, you need to move it to your Drive.\n",
        "\n",
        "# list the files in the directory : change it your folder\n",
        "!ls /content/drive/MyDrive/MIP"
      ],
      "metadata": {
        "colab": {
          "base_uri": "https://localhost:8080/"
        },
        "id": "9a_AQkfzDvvM",
        "outputId": "aec74db0-22c2-4db2-d87b-291ad5287274"
      },
      "execution_count": 5,
      "outputs": [
        {
          "output_type": "stream",
          "name": "stdout",
          "text": [
            "/content\n",
            "school_list.gsheet  school_list.xlsx  School_List.xlsx\tStatus_Report_30Dec.csv\n"
          ]
        }
      ]
    },
    {
      "cell_type": "markdown",
      "source": [
        "# Load Datasets.\n",
        "Requirements: 1) MIP Data, 2) List of middle Schools.\n",
        "Please ensure that both datasets is in the same folder."
      ],
      "metadata": {
        "id": "E0IqNpOgIYic"
      }
    },
    {
      "cell_type": "code",
      "source": [
        "######## Read MIP data\n",
        "\n",
        "# Assuming the file is named 'Status_Report_30Dec.csv' and is located in the folder.\n",
        "# Replace 'Status_Report_30Dec.csv' and the folder path if necessary.\n",
        "\n",
        "mip_file_path = '/content/drive/MyDrive/MIP/Status_Report_30Dec.csv'  # Update with the correct path\n",
        "\n",
        "# read the data\n",
        "mip_data = pd.read_csv(mip_file_path)\n",
        "\n",
        "# check the columns\n",
        "mip_data.columns"
      ],
      "metadata": {
        "colab": {
          "base_uri": "https://localhost:8080/"
        },
        "id": "gSDF2HJ418Zh",
        "outputId": "4e655462-bfdc-45b5-c611-2996934981db"
      },
      "execution_count": 6,
      "outputs": [
        {
          "output_type": "execute_result",
          "data": {
            "text/plain": [
              "Index(['UUID', 'User Type', 'User sub type', 'Declared State', 'District',\n",
              "       'Block', 'School Name', 'School ID', 'Declared Board', 'Org Name',\n",
              "       'Program Name', 'Program ID', 'Project ID', 'Project Title',\n",
              "       'Project Objective', 'Project start date of the user',\n",
              "       'Project completion date of the user', 'Project Duration',\n",
              "       'Project last Synced date', 'Project Status', 'Certificate Status'],\n",
              "      dtype='object')"
            ]
          },
          "metadata": {},
          "execution_count": 6
        }
      ]
    },
    {
      "cell_type": "code",
      "source": [
        "######### Read the School Data: List of all middle-schools\n",
        "\n",
        "# Assuming the xlsx file is named 'School_List.xlsx' and is located in the same directory.\n",
        "# Replace 'School_List.xlsx' with the actual file name.\n",
        "sch_file_path = '/content/drive/MyDrive/MIP/school_list.xlsx'  # Update with the correct path\n",
        "\n",
        "# Read data from\n",
        "school_data = pd.read_excel(sch_file_path)\n",
        "\n",
        "#print(school_data.head()) # print the first 5 rows to check\n",
        "\n",
        "# Keep only necessary columns\n",
        "school_data = school_data[['DISTRICT NAME', 'BLOCK NAME','UDISE+ SCHOOL CODE', 'SCHOOL NAME']]\n",
        "#print(school_data.head()) # print the first 5 rows to check\n",
        "\n",
        "# Rename the column from 'UDISE+ SCHOOL CODE' to 'School ID'\n",
        "school_data = school_data.rename(columns={'UDISE+ SCHOOL CODE': 'School ID'})\n",
        "print(school_data.head()) # print the first 5 rows to check\n"
      ],
      "metadata": {
        "colab": {
          "base_uri": "https://localhost:8080/"
        },
        "id": "xt5-4K1wSvK0",
        "outputId": "24854aed-3406-457c-9ce1-567bf19442ea"
      },
      "execution_count": 7,
      "outputs": [
        {
          "output_type": "stream",
          "name": "stdout",
          "text": [
            "  DISTRICT NAME BLOCK NAME    School ID           SCHOOL NAME\n",
            "0        ARARIA     ARARIA  10071200101          UMS ARARBARI\n",
            "1        ARARIA     ARARIA  10071200301     UMS KASAILA  GIRL\n",
            "2        ARARIA     ARARIA  10071200401              MS JAMUA\n",
            "3        ARARIA     ARARIA  10071200402  U.M.S JAMUA KHAMGARA\n",
            "4        ARARIA     ARARIA  10071200403    UMS JAMUA GHARWARI\n"
          ]
        }
      ]
    },
    {
      "cell_type": "markdown",
      "source": [
        "# Cleaning and Merging of Datasets"
      ],
      "metadata": {
        "id": "EDnLdJSrIxAi"
      }
    },
    {
      "cell_type": "code",
      "source": [
        "\n",
        "# Check for duplicates in the 'School ID' column of MIP Data\n",
        "num_duplicates = mip_data['School ID'].duplicated(keep=False).sum()\n",
        "\n",
        "if num_duplicates > 0:\n",
        "    print(f\"There are {num_duplicates} duplicates in the 'School ID' column.\")\n",
        "else:\n",
        "    print(\"There are no duplicates in the 'School ID' column.\")\n",
        "\n",
        "# Create a new variable which takes value completed if value of projectstatus is completed, takes value started if not\n",
        "mip_data['MIP_Status'] = mip_data['Project Status'].apply(lambda x: 'submitted' if x == 'submitted' else 'started')\n"
      ],
      "metadata": {
        "colab": {
          "base_uri": "https://localhost:8080/"
        },
        "id": "vbYub0-bVlG1",
        "outputId": "bcf0cdff-ae68-431b-a53c-82ff646e20b0"
      },
      "execution_count": 8,
      "outputs": [
        {
          "output_type": "stream",
          "name": "stdout",
          "text": [
            "There are 9365 duplicates in the 'School ID' column.\n"
          ]
        }
      ]
    },
    {
      "cell_type": "code",
      "source": [
        "# If a School ID has multiple MIP_Status values, it keeps the row with 'completed' if available;\n",
        "# otherwise, it keeps the first available status for that school.\n",
        "\n",
        "# Step 1: Sort the data by 'School ID' and 'MIP_Status' (alphabetical order)\n",
        "mip_data_sorted = mip_data.sort_values(by=['School ID', 'MIP_Status'], ascending=[True, True])\n",
        "\n",
        "# Step 2: Drop duplicates based on 'School ID', keeping the first row (which will be the 'completed' row if available)\n",
        "mip_data_deduped = mip_data_sorted.drop_duplicates(subset='School ID', keep='last')\n",
        "\n",
        "mip_data_sorted['MIP_Status'].value_counts()"
      ],
      "metadata": {
        "colab": {
          "base_uri": "https://localhost:8080/",
          "height": 178
        },
        "collapsed": true,
        "id": "nwc8xUQwapK7",
        "outputId": "559e0b0a-4852-4b38-f3a5-a1ef9c3fc4a5"
      },
      "execution_count": 9,
      "outputs": [
        {
          "output_type": "execute_result",
          "data": {
            "text/plain": [
              "MIP_Status\n",
              "submitted    18416\n",
              "started       5701\n",
              "Name: count, dtype: int64"
            ],
            "text/html": [
              "<div>\n",
              "<style scoped>\n",
              "    .dataframe tbody tr th:only-of-type {\n",
              "        vertical-align: middle;\n",
              "    }\n",
              "\n",
              "    .dataframe tbody tr th {\n",
              "        vertical-align: top;\n",
              "    }\n",
              "\n",
              "    .dataframe thead th {\n",
              "        text-align: right;\n",
              "    }\n",
              "</style>\n",
              "<table border=\"1\" class=\"dataframe\">\n",
              "  <thead>\n",
              "    <tr style=\"text-align: right;\">\n",
              "      <th></th>\n",
              "      <th>count</th>\n",
              "    </tr>\n",
              "    <tr>\n",
              "      <th>MIP_Status</th>\n",
              "      <th></th>\n",
              "    </tr>\n",
              "  </thead>\n",
              "  <tbody>\n",
              "    <tr>\n",
              "      <th>submitted</th>\n",
              "      <td>18416</td>\n",
              "    </tr>\n",
              "    <tr>\n",
              "      <th>started</th>\n",
              "      <td>5701</td>\n",
              "    </tr>\n",
              "  </tbody>\n",
              "</table>\n",
              "</div><br><label><b>dtype:</b> int64</label>"
            ]
          },
          "metadata": {},
          "execution_count": 9
        }
      ]
    },
    {
      "cell_type": "code",
      "source": [
        "# Convert school id to strings in both dataset. Merge the mip data with school data using School Id . Show how many mere merged and how many didnot merge. Replace mip status with notstarted for the unmerged observations\n",
        "\n",
        "# Convert 'School ID' to string in both DataFrames\n",
        "mip_data_deduped['School ID'] = mip_data_deduped['School ID'].astype(str)\n",
        "school_data['School ID'] = school_data['School ID'].astype(str)\n",
        "\n",
        "# Merge the two datasets\n",
        "merged_data = pd.merge(school_data, mip_data_deduped,  on='School ID', how='left', indicator=True)\n",
        "\n",
        "# Calculate the number of merged and unmerged observations\n",
        "merged_count = len(merged_data[merged_data['_merge'] == 'both'])\n",
        "unmerged_count = len(merged_data[merged_data['_merge'] == 'left_only'])\n",
        "\n",
        "print(f\"Number of observations merged: {merged_count}\")\n",
        "print(f\"Number of observations not merged: {unmerged_count}\")\n",
        "\n",
        "# Replace 'MIP_Status' with 'notstarted' for unmerged observations\n",
        "merged_data.loc[merged_data['_merge'] == 'left_only', 'MIP_Status'] = 'notstarted'\n",
        "\n",
        "# Remove the '_merge' indicator column\n",
        "merged_data = merged_data.drop('_merge', axis=1)\n",
        "\n",
        "print(merged_data.head())\n",
        "\n",
        "print(merged_data[(merged_data['MIP_Status'] != 'submitted') & (merged_data['DISTRICT NAME'] == 'VAISHALI')])"
      ],
      "metadata": {
        "colab": {
          "base_uri": "https://localhost:8080/"
        },
        "collapsed": true,
        "id": "xRY_pP6WeNdA",
        "outputId": "c2090a22-aff7-49df-a982-4948eefa16b0"
      },
      "execution_count": 10,
      "outputs": [
        {
          "output_type": "stream",
          "name": "stdout",
          "text": [
            "Number of observations merged: 18571\n",
            "Number of observations not merged: 10416\n",
            "  DISTRICT NAME BLOCK NAME    School ID           SCHOOL NAME  \\\n",
            "0        ARARIA     ARARIA  10071200101          UMS ARARBARI   \n",
            "1        ARARIA     ARARIA  10071200301     UMS KASAILA  GIRL   \n",
            "2        ARARIA     ARARIA  10071200401              MS JAMUA   \n",
            "3        ARARIA     ARARIA  10071200402  U.M.S JAMUA KHAMGARA   \n",
            "4        ARARIA     ARARIA  10071200403    UMS JAMUA GHARWARI   \n",
            "\n",
            "                                   UUID      User Type User sub type  \\\n",
            "0                                   NaN            NaN           NaN   \n",
            "1                                   NaN            NaN           NaN   \n",
            "2  ee1fb08e-74ba-4647-868a-a8fb41371b80  administrator            AT   \n",
            "3                                   NaN            NaN           NaN   \n",
            "4                                   NaN            NaN           NaN   \n",
            "\n",
            "  Declared State District   Block  ...                Project ID  \\\n",
            "0            NaN      NaN     NaN  ...                       NaN   \n",
            "1            NaN      NaN     NaN  ...                       NaN   \n",
            "2          Bihar   Araria  Araria  ...  6761abdfa9416600086bce36   \n",
            "3            NaN      NaN     NaN  ...                       NaN   \n",
            "4            NaN      NaN     NaN  ...                       NaN   \n",
            "\n",
            "                                       Project Title  \\\n",
            "0                                                NaN   \n",
            "1                                                NaN   \n",
            "2  ' BH_प्रोजेक्ट बेस्ड लर्निंग आधारित माइक्रो इम...   \n",
            "3                                                NaN   \n",
            "4                                                NaN   \n",
            "\n",
            "                                   Project Objective  \\\n",
            "0                                                NaN   \n",
            "1                                                NaN   \n",
            "2  ' शिक्षक प्रोजेक्ट बेस्ड लर्निंग (PBL) शिक्षण ...   \n",
            "3                                                NaN   \n",
            "4                                                NaN   \n",
            "\n",
            "  Project start date of the user Project completion date of the user  \\\n",
            "0                            NaN                                 NaN   \n",
            "1                            NaN                                 NaN   \n",
            "2  2024-12-17T16:50:39.416+05:30                                Null   \n",
            "3                            NaN                                 NaN   \n",
            "4                            NaN                                 NaN   \n",
            "\n",
            "  Project Duration Project last Synced date Project Status Certificate Status  \\\n",
            "0              NaN                      NaN            NaN                NaN   \n",
            "1              NaN                      NaN            NaN                NaN   \n",
            "2          2 Weeks                     Null        started               Null   \n",
            "3              NaN                      NaN            NaN                NaN   \n",
            "4              NaN                      NaN            NaN                NaN   \n",
            "\n",
            "   MIP_Status  \n",
            "0  notstarted  \n",
            "1  notstarted  \n",
            "2     started  \n",
            "3  notstarted  \n",
            "4  notstarted  \n",
            "\n",
            "[5 rows x 25 columns]\n",
            "Empty DataFrame\n",
            "Columns: [DISTRICT NAME, BLOCK NAME, School ID, SCHOOL NAME, UUID, User Type, User sub type, Declared State, District, Block, School Name, Declared Board, Org Name, Program Name, Program ID, Project ID, Project Title, Project Objective, Project start date of the user, Project completion date of the user, Project Duration, Project last Synced date, Project Status, Certificate Status, MIP_Status]\n",
            "Index: []\n",
            "\n",
            "[0 rows x 25 columns]\n"
          ]
        },
        {
          "output_type": "stream",
          "name": "stderr",
          "text": [
            "<ipython-input-10-d66a7b167ae3>:4: SettingWithCopyWarning: \n",
            "A value is trying to be set on a copy of a slice from a DataFrame.\n",
            "Try using .loc[row_indexer,col_indexer] = value instead\n",
            "\n",
            "See the caveats in the documentation: https://pandas.pydata.org/pandas-docs/stable/user_guide/indexing.html#returning-a-view-versus-a-copy\n",
            "  mip_data_deduped['School ID'] = mip_data_deduped['School ID'].astype(str)\n"
          ]
        }
      ]
    },
    {
      "cell_type": "markdown",
      "source": [
        "# Tables"
      ],
      "metadata": {
        "id": "9WKfPrlBI8DE"
      }
    },
    {
      "cell_type": "code",
      "source": [
        "#Show number of schools for mip status. Show Number of schools for each category of mip status  by district.\n",
        "\n",
        "# Group by 'MIP_Status' and count the number of schools\n",
        "mip_status_counts = merged_data.groupby('MIP_Status')['School ID'].count()\n",
        "print(\"\\nNumber of schools for each MIP status:\")\n",
        "print(mip_status_counts)\n",
        "\n",
        "\n"
      ],
      "metadata": {
        "colab": {
          "base_uri": "https://localhost:8080/"
        },
        "collapsed": true,
        "id": "LhGdEHiZfoCi",
        "outputId": "77786642-66f2-44f2-b7dd-9b4598489e97"
      },
      "execution_count": 11,
      "outputs": [
        {
          "output_type": "stream",
          "name": "stdout",
          "text": [
            "\n",
            "Number of schools for each MIP status:\n",
            "MIP_Status\n",
            "notstarted    10416\n",
            "started        2896\n",
            "submitted     15675\n",
            "Name: School ID, dtype: int64\n"
          ]
        }
      ]
    },
    {
      "cell_type": "code",
      "source": [
        "##### District wise Tables #####\n",
        "\n",
        "# Calculate total number of schools per district\n",
        "district_totals = merged_data.groupby('DISTRICT NAME')['School ID'].count().reset_index(name='Total Schools')\n",
        "\n",
        "# Calculate the number of schools in each MIP status category by district\n",
        "mip_by_district = merged_data.groupby(['DISTRICT NAME', 'MIP_Status'])['School ID'].count().reset_index(name='School Count')\n",
        "\n",
        "# Merge the total schools and school counts\n",
        "district_summary = pd.merge(district_totals, mip_by_district, on='DISTRICT NAME')\n",
        "\n",
        "# Calculate the percentage of schools in each MIP status category\n",
        "district_summary['Percentage'] = ((district_summary['School Count'] / district_summary['Total Schools']) * 100).round(2)  # Round to 2 decimal po\n",
        "\n",
        "# Pivot the table to wide format\n",
        "district_summary_wide = district_summary.pivot(index='DISTRICT NAME', columns='MIP_Status', values=['School Count', 'Percentage'])\n",
        "\n",
        "# Add total schools as a column for clarity\n",
        "district_summary_wide['Total Schools'] = district_totals.set_index('DISTRICT NAME')\n",
        "\n",
        "# Flatten the MultiIndex columns\n",
        "district_summary_wide.columns = [' '.join(col).strip() for col in district_summary_wide.columns.values]\n",
        "\n",
        "# Reset the index to make the district names a column\n",
        "district_summary_wide.reset_index(inplace=True)\n",
        "\n",
        "# Display the wide-format table\n",
        "print(\"\\nWide-format Table: Number of schools (and percentage) in each MIP status category by district\")\n",
        "print(district_summary_wide)\n"
      ],
      "metadata": {
        "colab": {
          "base_uri": "https://localhost:8080/"
        },
        "id": "SD0vbFnVLSyu",
        "outputId": "95ef7de4-f7ff-4e14-c00b-1981f4595d6d"
      },
      "execution_count": 12,
      "outputs": [
        {
          "output_type": "stream",
          "name": "stdout",
          "text": [
            "\n",
            "Wide-format Table: Number of schools (and percentage) in each MIP status category by district\n",
            "         DISTRICT NAME  School Count notstarted  School Count started  \\\n",
            "0               ARARIA                    397.0                  74.0   \n",
            "1                ARWAL                     47.0                  27.0   \n",
            "2   AURANGABAD (BIHAR)                    534.0                 119.0   \n",
            "3                BANKA                    465.0                 107.0   \n",
            "4            BEGUSARAI                     52.0                  37.0   \n",
            "5            BHAGALPUR                    215.0                 143.0   \n",
            "6              BHOJPUR                     51.0                  48.0   \n",
            "7                BUXAR                    154.0                  44.0   \n",
            "8            DARBHANGA                    604.0                 110.0   \n",
            "9         E. CHAMPARAN                    218.0                  75.0   \n",
            "10                GAYA                    641.0                 161.0   \n",
            "11           GOPALGANJ                    180.0                  95.0   \n",
            "12               JAMUI                    387.0                  83.0   \n",
            "13           JEHANABAD                    106.0                  47.0   \n",
            "14     KAIMUR (BHABUA)                     24.0                   8.0   \n",
            "15             KATIHAR                    143.0                  34.0   \n",
            "16            KHAGARIA                    300.0                  62.0   \n",
            "17          KISHANGANJ                    439.0                  71.0   \n",
            "18          LAKHISARAI                     56.0                  29.0   \n",
            "19           MADHEPURA                      8.0                   NaN   \n",
            "20           MADHUBANI                    635.0                 114.0   \n",
            "21              MUNGER                    230.0                  86.0   \n",
            "22         MUZAFFARPUR                    236.0                 142.0   \n",
            "23             NALANDA                    145.0                  97.0   \n",
            "24              NAWADA                    297.0                  92.0   \n",
            "25               PATNA                    506.0                 134.0   \n",
            "26              PURNIA                    392.0                 103.0   \n",
            "27              ROHTAS                    220.0                  70.0   \n",
            "28             SAHARSA                    323.0                  81.0   \n",
            "29          SAMASTIPUR                    193.0                  65.0   \n",
            "30               SARAN                    199.0                  95.0   \n",
            "31          SHEIKHPURA                    143.0                  33.0   \n",
            "32             SHEOHAR                    150.0                  12.0   \n",
            "33           SITAMARHI                    550.0                 117.0   \n",
            "34               SIWAN                    216.0                  94.0   \n",
            "35              SUPAUL                    335.0                  94.0   \n",
            "36            VAISHALI                      NaN                   NaN   \n",
            "37         W CHAMPARAN                    625.0                  93.0   \n",
            "\n",
            "    School Count submitted  Percentage notstarted  Percentage started  \\\n",
            "0                    158.0                  63.12               11.76   \n",
            "1                    133.0                  22.71               13.04   \n",
            "2                    364.0                  52.51               11.70   \n",
            "3                    274.0                  54.96               12.65   \n",
            "4                    657.0                   6.97                4.96   \n",
            "5                    527.0                  24.29               16.16   \n",
            "6                    717.0                   6.25                5.88   \n",
            "7                    270.0                  32.91                9.40   \n",
            "8                    188.0                  66.96               12.20   \n",
            "9                   1035.0                  16.42                5.65   \n",
            "10                   607.0                  45.49               11.43   \n",
            "11                   406.0                  26.43               13.95   \n",
            "12                   374.0                  45.85                9.83   \n",
            "13                   199.0                  30.11               13.35   \n",
            "14                   558.0                   4.07                1.36   \n",
            "15                   541.0                  19.92                4.74   \n",
            "16                   149.0                  58.71               12.13   \n",
            "17                    82.0                  74.16               11.99   \n",
            "18                   206.0                  19.24                9.97   \n",
            "19                   726.0                   1.09                 NaN   \n",
            "20                   257.0                  63.12               11.33   \n",
            "21                   153.0                  49.04               18.34   \n",
            "22                  1013.0                  16.97               10.21   \n",
            "23                   585.0                  17.53               11.73   \n",
            "24                   307.0                  42.67               13.22   \n",
            "25                   512.0                  43.92               11.63   \n",
            "26                   347.0                  46.56               12.23   \n",
            "27                   511.0                  27.47                8.74   \n",
            "28                   106.0                  63.33               15.88   \n",
            "29                   732.0                  19.49                6.57   \n",
            "30                   763.0                  18.83                8.99   \n",
            "31                    58.0                  61.11               14.10   \n",
            "32                    24.0                  80.65                6.45   \n",
            "33                   226.0                  61.59               13.10   \n",
            "34                   559.0                  24.86               10.82   \n",
            "35                   195.0                  53.69               15.06   \n",
            "36                   961.0                    NaN                 NaN   \n",
            "37                   195.0                  68.46               10.19   \n",
            "\n",
            "    Percentage submitted  Total Schools  \n",
            "0                  25.12            629  \n",
            "1                  64.25            207  \n",
            "2                  35.79           1017  \n",
            "3                  32.39            846  \n",
            "4                  88.07            746  \n",
            "5                  59.55            885  \n",
            "6                  87.87            816  \n",
            "7                  57.69            468  \n",
            "8                  20.84            902  \n",
            "9                  77.94           1328  \n",
            "10                 43.08           1409  \n",
            "11                 59.62            681  \n",
            "12                 44.31            844  \n",
            "13                 56.53            352  \n",
            "14                 94.58            590  \n",
            "15                 75.35            718  \n",
            "16                 29.16            511  \n",
            "17                 13.85            592  \n",
            "18                 70.79            291  \n",
            "19                 98.91            734  \n",
            "20                 25.55           1006  \n",
            "21                 32.62            469  \n",
            "22                 72.83           1391  \n",
            "23                 70.74            827  \n",
            "24                 44.11            696  \n",
            "25                 44.44           1152  \n",
            "26                 41.21            842  \n",
            "27                 63.80            801  \n",
            "28                 20.78            510  \n",
            "29                 73.94            990  \n",
            "30                 72.19           1057  \n",
            "31                 24.79            234  \n",
            "32                 12.90            186  \n",
            "33                 25.31            893  \n",
            "34                 64.33            869  \n",
            "35                 31.25            624  \n",
            "36                100.00            961  \n",
            "37                 21.36            913  \n"
          ]
        }
      ]
    },
    {
      "source": [
        "# export to google sheet\n",
        "from google.colab import sheets\n",
        "sheet = sheets.InteractiveSheet(df=district_summary_wide)"
      ],
      "cell_type": "code",
      "execution_count": 13,
      "outputs": [
        {
          "output_type": "stream",
          "name": "stdout",
          "text": [
            "https://docs.google.com/spreadsheets/d/1QwKxIbDK7J-V_pWo94Yox7Rv25DsBqeDtMSV8tjNq0o#gid=0\n"
          ]
        },
        {
          "output_type": "display_data",
          "data": {
            "text/plain": [
              "<IPython.lib.display.IFrame at 0x7e4f0ed0b130>"
            ],
            "text/html": [
              "\n",
              "        <iframe\n",
              "            width=\"100%\"\n",
              "            height=\"600\"\n",
              "            src=\"https://docs.google.com/spreadsheets/d/1QwKxIbDK7J-V_pWo94Yox7Rv25DsBqeDtMSV8tjNq0o#gid=0/edit?rm=embedded?usp=sharing?widget=true&amp;headers=false\"\n",
              "            frameborder=\"0\"\n",
              "            allowfullscreen\n",
              "            \n",
              "        ></iframe>\n",
              "        "
            ]
          },
          "metadata": {}
        }
      ],
      "metadata": {
        "cellView": "form",
        "colab": {
          "base_uri": "https://localhost:8080/",
          "height": 638
        },
        "id": "EVoZbNc0MqY2",
        "outputId": "6f62b309-1d0f-46ca-8c10-484985534898"
      }
    },
    {
      "cell_type": "code",
      "source": [
        "#### Block-Wise Tables ####\n",
        "\n",
        "# Calculate total number of schools per district and block\n",
        "block_totals = merged_data.groupby(['DISTRICT NAME', 'BLOCK NAME'])['School ID'].count().reset_index(name='Total Schools')\n",
        "\n",
        "# Calculate the number of schools in each MIP status category by district and block\n",
        "mip_by_block = merged_data.groupby(['DISTRICT NAME', 'BLOCK NAME', 'MIP_Status'])['School ID'].count().reset_index(name='School Count')\n",
        "\n",
        "# Merge the total schools and school counts\n",
        "block_summary = pd.merge(block_totals, mip_by_block, on=['DISTRICT NAME', 'BLOCK NAME'])\n",
        "\n",
        "# Calculate the percentage of schools in each MIP status category\n",
        "block_summary['Percentage'] = ((block_summary['School Count'] / block_summary['Total Schools']) * 100).round(2)\n",
        "\n",
        "# Pivot the table to wide format\n",
        "block_summary_wide = block_summary.pivot(index=['DISTRICT NAME', 'BLOCK NAME'], columns='MIP_Status', values=['School Count', 'Percentage'])\n",
        "\n",
        "# Add total schools as a column for clarity\n",
        "block_summary_wide['Total Schools'] = block_totals.set_index(['DISTRICT NAME', 'BLOCK NAME'])\n",
        "\n",
        "# Flatten the MultiIndex columns\n",
        "block_summary_wide.columns = [' '.join(col).strip() for col in block_summary_wide.columns.values]\n",
        "\n",
        "# Reset the index to make the district and block names columns\n",
        "block_summary_wide.reset_index(inplace=True)\n",
        "\n",
        "# Display the wide-format table\n",
        "print(\"\\nWide-format Table: Number of schools (and percentage) in each MIP status category by district and block\")\n",
        "print(block_summary_wide)\n"
      ],
      "metadata": {
        "colab": {
          "base_uri": "https://localhost:8080/"
        },
        "id": "QDWekj0vTnpT",
        "outputId": "f82e1a2e-5cd4-44fb-ca62-eef908362cea"
      },
      "execution_count": 14,
      "outputs": [
        {
          "output_type": "stream",
          "name": "stdout",
          "text": [
            "\n",
            "Wide-format Table: Number of schools (and percentage) in each MIP status category by district and block\n",
            "    DISTRICT NAME  BLOCK NAME  School Count notstarted  School Count started  \\\n",
            "0          ARARIA      ARARIA                     50.0                  14.0   \n",
            "1          ARARIA    BHARGAMA                     35.0                   7.0   \n",
            "2          ARARIA  FORBISGANJ                     43.0                  10.0   \n",
            "3          ARARIA     JOKIHAT                     72.0                   5.0   \n",
            "4          ARARIA  KURSAKANTA                     22.0                   6.0   \n",
            "..            ...         ...                      ...                   ...   \n",
            "532   W CHAMPARAN      NAUTAN                     38.0                   6.0   \n",
            "533   W CHAMPARAN     PIPRASI                      9.0                   1.0   \n",
            "534   W CHAMPARAN    RAMNAGAR                     35.0                   3.0   \n",
            "535   W CHAMPARAN       SIKTA                     31.0                   4.0   \n",
            "536   W CHAMPARAN  THAKARAHAN                      5.0                   NaN   \n",
            "\n",
            "     School Count submitted  Percentage notstarted  Percentage started  \\\n",
            "0                      21.0                  58.82               16.47   \n",
            "1                      19.0                  57.38               11.48   \n",
            "2                      24.0                  55.84               12.99   \n",
            "3                       3.0                  90.00                6.25   \n",
            "4                      26.0                  40.74               11.11   \n",
            "..                      ...                    ...                 ...   \n",
            "532                     7.0                  74.51               11.76   \n",
            "533                     1.0                  81.82                9.09   \n",
            "534                    20.0                  60.34                5.17   \n",
            "535                     8.0                  72.09                9.30   \n",
            "536                     7.0                  41.67                 NaN   \n",
            "\n",
            "     Percentage submitted  Total Schools  \n",
            "0                   24.71             85  \n",
            "1                   31.15             61  \n",
            "2                   31.17             77  \n",
            "3                    3.75             80  \n",
            "4                   48.15             54  \n",
            "..                    ...            ...  \n",
            "532                 13.73             51  \n",
            "533                  9.09             11  \n",
            "534                 34.48             58  \n",
            "535                 18.60             43  \n",
            "536                 58.33             12  \n",
            "\n",
            "[537 rows x 9 columns]\n"
          ]
        }
      ]
    },
    {
      "cell_type": "code",
      "source": [
        "# export to google sheet\n",
        "from google.colab import sheets\n",
        "sheet = sheets.InteractiveSheet(df=block_summary_wide)"
      ],
      "metadata": {
        "colab": {
          "base_uri": "https://localhost:8080/",
          "height": 638
        },
        "id": "d7_KsDIWTuLp",
        "outputId": "ec50b5ac-c591-4a5b-9dc7-37bcf2b3877f"
      },
      "execution_count": 15,
      "outputs": [
        {
          "output_type": "stream",
          "name": "stdout",
          "text": [
            "https://docs.google.com/spreadsheets/d/1JZNW9Dbad6QDNyYZCWH7E9muPZUWiRmWnlH7FN22w0c#gid=0\n"
          ]
        },
        {
          "output_type": "display_data",
          "data": {
            "text/plain": [
              "<IPython.lib.display.IFrame at 0x7e4f0ed0b4f0>"
            ],
            "text/html": [
              "\n",
              "        <iframe\n",
              "            width=\"100%\"\n",
              "            height=\"600\"\n",
              "            src=\"https://docs.google.com/spreadsheets/d/1JZNW9Dbad6QDNyYZCWH7E9muPZUWiRmWnlH7FN22w0c#gid=0/edit?rm=embedded?usp=sharing?widget=true&amp;headers=false\"\n",
              "            frameborder=\"0\"\n",
              "            allowfullscreen\n",
              "            \n",
              "        ></iframe>\n",
              "        "
            ]
          },
          "metadata": {}
        }
      ]
    },
    {
      "cell_type": "markdown",
      "source": [
        "# Dashboard Creation"
      ],
      "metadata": {
        "id": "m-QsIW0eJAIf"
      }
    },
    {
      "cell_type": "code",
      "source": [
        "# Create a Dashboard showing the District data.\n",
        "\n",
        "import pandas as pd\n",
        "from google.colab import data_table\n",
        "from google.colab import drive\n",
        "from google.colab import sheets\n",
        "\n",
        "# Assuming your data is in the 'merged_data' DataFrame from the previous code\n",
        "\n",
        "# Display the DataFrame using data_table for interactive exploration\n",
        "data_table.DataTable(merged_data)\n",
        "\n",
        "# Example of creating a summary table (replace with your desired dashboard elements)\n",
        "# This uses the district_summary_wide DataFrame that was already created\n",
        "data_table.DataTable(district_summary_wide)\n",
        "\n",
        "\n",
        "# Example of creating a chart (replace with your desired dashboard elements and chart type)\n",
        "# Install plotly for creating interactive charts\n",
        "!pip install plotly\n",
        "\n",
        "import plotly.express as px\n",
        "\n",
        "# Create a bar chart showing the number of schools by district and MIP status\n",
        "fig = px.bar(district_summary, x='DISTRICT NAME', y='School Count', color='MIP_Status',\n",
        "             title=\"Number of Schools by District and MIP Status\",\n",
        "             labels={'School Count': 'Number of Schools'})\n",
        "fig.show()\n",
        "\n",
        "# Add more charts or tables to create your dashboard as needed\n",
        "# You can use other plotting libraries like matplotlib or seaborn if preferred"
      ],
      "metadata": {
        "colab": {
          "base_uri": "https://localhost:8080/",
          "height": 594
        },
        "id": "RFJNbsdeS8xV",
        "outputId": "57b99d01-a1bd-4982-c44d-53e538bd6f3d"
      },
      "execution_count": 16,
      "outputs": [
        {
          "output_type": "stream",
          "name": "stdout",
          "text": [
            "Requirement already satisfied: plotly in /usr/local/lib/python3.10/dist-packages (5.24.1)\n",
            "Requirement already satisfied: tenacity>=6.2.0 in /usr/local/lib/python3.10/dist-packages (from plotly) (9.0.0)\n",
            "Requirement already satisfied: packaging in /usr/local/lib/python3.10/dist-packages (from plotly) (24.2)\n"
          ]
        },
        {
          "output_type": "display_data",
          "data": {
            "text/html": [
              "<html>\n",
              "<head><meta charset=\"utf-8\" /></head>\n",
              "<body>\n",
              "    <div>            <script src=\"https://cdnjs.cloudflare.com/ajax/libs/mathjax/2.7.5/MathJax.js?config=TeX-AMS-MML_SVG\"></script><script type=\"text/javascript\">if (window.MathJax && window.MathJax.Hub && window.MathJax.Hub.Config) {window.MathJax.Hub.Config({SVG: {font: \"STIX-Web\"}});}</script>                <script type=\"text/javascript\">window.PlotlyConfig = {MathJaxConfig: 'local'};</script>\n",
              "        <script charset=\"utf-8\" src=\"https://cdn.plot.ly/plotly-2.35.2.min.js\"></script>                <div id=\"4532a6c5-5caa-424c-8fa1-9efb081be8ed\" class=\"plotly-graph-div\" style=\"height:525px; width:100%;\"></div>            <script type=\"text/javascript\">                                    window.PLOTLYENV=window.PLOTLYENV || {};                                    if (document.getElementById(\"4532a6c5-5caa-424c-8fa1-9efb081be8ed\")) {                    Plotly.newPlot(                        \"4532a6c5-5caa-424c-8fa1-9efb081be8ed\",                        [{\"alignmentgroup\":\"True\",\"hovertemplate\":\"MIP_Status=notstarted\\u003cbr\\u003eDISTRICT NAME=%{x}\\u003cbr\\u003eNumber of Schools=%{y}\\u003cextra\\u003e\\u003c\\u002fextra\\u003e\",\"legendgroup\":\"notstarted\",\"marker\":{\"color\":\"#636efa\",\"pattern\":{\"shape\":\"\"}},\"name\":\"notstarted\",\"offsetgroup\":\"notstarted\",\"orientation\":\"v\",\"showlegend\":true,\"textposition\":\"auto\",\"x\":[\"ARARIA\",\"ARWAL\",\"AURANGABAD (BIHAR)\",\"BANKA\",\"BEGUSARAI\",\"BHAGALPUR\",\"BHOJPUR\",\"BUXAR\",\"DARBHANGA\",\"E. CHAMPARAN\",\"GAYA\",\"GOPALGANJ\",\"JAMUI\",\"JEHANABAD\",\"KAIMUR (BHABUA)\",\"KATIHAR\",\"KHAGARIA\",\"KISHANGANJ\",\"LAKHISARAI\",\"MADHEPURA\",\"MADHUBANI\",\"MUNGER\",\"MUZAFFARPUR\",\"NALANDA\",\"NAWADA\",\"PATNA\",\"PURNIA\",\"ROHTAS\",\"SAHARSA\",\"SAMASTIPUR\",\"SARAN\",\"SHEIKHPURA\",\"SHEOHAR\",\"SITAMARHI\",\"SIWAN\",\"SUPAUL\",\"W CHAMPARAN\"],\"xaxis\":\"x\",\"y\":[397,47,534,465,52,215,51,154,604,218,641,180,387,106,24,143,300,439,56,8,635,230,236,145,297,506,392,220,323,193,199,143,150,550,216,335,625],\"yaxis\":\"y\",\"type\":\"bar\"},{\"alignmentgroup\":\"True\",\"hovertemplate\":\"MIP_Status=started\\u003cbr\\u003eDISTRICT NAME=%{x}\\u003cbr\\u003eNumber of Schools=%{y}\\u003cextra\\u003e\\u003c\\u002fextra\\u003e\",\"legendgroup\":\"started\",\"marker\":{\"color\":\"#EF553B\",\"pattern\":{\"shape\":\"\"}},\"name\":\"started\",\"offsetgroup\":\"started\",\"orientation\":\"v\",\"showlegend\":true,\"textposition\":\"auto\",\"x\":[\"ARARIA\",\"ARWAL\",\"AURANGABAD (BIHAR)\",\"BANKA\",\"BEGUSARAI\",\"BHAGALPUR\",\"BHOJPUR\",\"BUXAR\",\"DARBHANGA\",\"E. CHAMPARAN\",\"GAYA\",\"GOPALGANJ\",\"JAMUI\",\"JEHANABAD\",\"KAIMUR (BHABUA)\",\"KATIHAR\",\"KHAGARIA\",\"KISHANGANJ\",\"LAKHISARAI\",\"MADHUBANI\",\"MUNGER\",\"MUZAFFARPUR\",\"NALANDA\",\"NAWADA\",\"PATNA\",\"PURNIA\",\"ROHTAS\",\"SAHARSA\",\"SAMASTIPUR\",\"SARAN\",\"SHEIKHPURA\",\"SHEOHAR\",\"SITAMARHI\",\"SIWAN\",\"SUPAUL\",\"W CHAMPARAN\"],\"xaxis\":\"x\",\"y\":[74,27,119,107,37,143,48,44,110,75,161,95,83,47,8,34,62,71,29,114,86,142,97,92,134,103,70,81,65,95,33,12,117,94,94,93],\"yaxis\":\"y\",\"type\":\"bar\"},{\"alignmentgroup\":\"True\",\"hovertemplate\":\"MIP_Status=submitted\\u003cbr\\u003eDISTRICT NAME=%{x}\\u003cbr\\u003eNumber of Schools=%{y}\\u003cextra\\u003e\\u003c\\u002fextra\\u003e\",\"legendgroup\":\"submitted\",\"marker\":{\"color\":\"#00cc96\",\"pattern\":{\"shape\":\"\"}},\"name\":\"submitted\",\"offsetgroup\":\"submitted\",\"orientation\":\"v\",\"showlegend\":true,\"textposition\":\"auto\",\"x\":[\"ARARIA\",\"ARWAL\",\"AURANGABAD (BIHAR)\",\"BANKA\",\"BEGUSARAI\",\"BHAGALPUR\",\"BHOJPUR\",\"BUXAR\",\"DARBHANGA\",\"E. CHAMPARAN\",\"GAYA\",\"GOPALGANJ\",\"JAMUI\",\"JEHANABAD\",\"KAIMUR (BHABUA)\",\"KATIHAR\",\"KHAGARIA\",\"KISHANGANJ\",\"LAKHISARAI\",\"MADHEPURA\",\"MADHUBANI\",\"MUNGER\",\"MUZAFFARPUR\",\"NALANDA\",\"NAWADA\",\"PATNA\",\"PURNIA\",\"ROHTAS\",\"SAHARSA\",\"SAMASTIPUR\",\"SARAN\",\"SHEIKHPURA\",\"SHEOHAR\",\"SITAMARHI\",\"SIWAN\",\"SUPAUL\",\"VAISHALI\",\"W CHAMPARAN\"],\"xaxis\":\"x\",\"y\":[158,133,364,274,657,527,717,270,188,1035,607,406,374,199,558,541,149,82,206,726,257,153,1013,585,307,512,347,511,106,732,763,58,24,226,559,195,961,195],\"yaxis\":\"y\",\"type\":\"bar\"}],                        {\"template\":{\"data\":{\"histogram2dcontour\":[{\"type\":\"histogram2dcontour\",\"colorbar\":{\"outlinewidth\":0,\"ticks\":\"\"},\"colorscale\":[[0.0,\"#0d0887\"],[0.1111111111111111,\"#46039f\"],[0.2222222222222222,\"#7201a8\"],[0.3333333333333333,\"#9c179e\"],[0.4444444444444444,\"#bd3786\"],[0.5555555555555556,\"#d8576b\"],[0.6666666666666666,\"#ed7953\"],[0.7777777777777778,\"#fb9f3a\"],[0.8888888888888888,\"#fdca26\"],[1.0,\"#f0f921\"]]}],\"choropleth\":[{\"type\":\"choropleth\",\"colorbar\":{\"outlinewidth\":0,\"ticks\":\"\"}}],\"histogram2d\":[{\"type\":\"histogram2d\",\"colorbar\":{\"outlinewidth\":0,\"ticks\":\"\"},\"colorscale\":[[0.0,\"#0d0887\"],[0.1111111111111111,\"#46039f\"],[0.2222222222222222,\"#7201a8\"],[0.3333333333333333,\"#9c179e\"],[0.4444444444444444,\"#bd3786\"],[0.5555555555555556,\"#d8576b\"],[0.6666666666666666,\"#ed7953\"],[0.7777777777777778,\"#fb9f3a\"],[0.8888888888888888,\"#fdca26\"],[1.0,\"#f0f921\"]]}],\"heatmap\":[{\"type\":\"heatmap\",\"colorbar\":{\"outlinewidth\":0,\"ticks\":\"\"},\"colorscale\":[[0.0,\"#0d0887\"],[0.1111111111111111,\"#46039f\"],[0.2222222222222222,\"#7201a8\"],[0.3333333333333333,\"#9c179e\"],[0.4444444444444444,\"#bd3786\"],[0.5555555555555556,\"#d8576b\"],[0.6666666666666666,\"#ed7953\"],[0.7777777777777778,\"#fb9f3a\"],[0.8888888888888888,\"#fdca26\"],[1.0,\"#f0f921\"]]}],\"heatmapgl\":[{\"type\":\"heatmapgl\",\"colorbar\":{\"outlinewidth\":0,\"ticks\":\"\"},\"colorscale\":[[0.0,\"#0d0887\"],[0.1111111111111111,\"#46039f\"],[0.2222222222222222,\"#7201a8\"],[0.3333333333333333,\"#9c179e\"],[0.4444444444444444,\"#bd3786\"],[0.5555555555555556,\"#d8576b\"],[0.6666666666666666,\"#ed7953\"],[0.7777777777777778,\"#fb9f3a\"],[0.8888888888888888,\"#fdca26\"],[1.0,\"#f0f921\"]]}],\"contourcarpet\":[{\"type\":\"contourcarpet\",\"colorbar\":{\"outlinewidth\":0,\"ticks\":\"\"}}],\"contour\":[{\"type\":\"contour\",\"colorbar\":{\"outlinewidth\":0,\"ticks\":\"\"},\"colorscale\":[[0.0,\"#0d0887\"],[0.1111111111111111,\"#46039f\"],[0.2222222222222222,\"#7201a8\"],[0.3333333333333333,\"#9c179e\"],[0.4444444444444444,\"#bd3786\"],[0.5555555555555556,\"#d8576b\"],[0.6666666666666666,\"#ed7953\"],[0.7777777777777778,\"#fb9f3a\"],[0.8888888888888888,\"#fdca26\"],[1.0,\"#f0f921\"]]}],\"surface\":[{\"type\":\"surface\",\"colorbar\":{\"outlinewidth\":0,\"ticks\":\"\"},\"colorscale\":[[0.0,\"#0d0887\"],[0.1111111111111111,\"#46039f\"],[0.2222222222222222,\"#7201a8\"],[0.3333333333333333,\"#9c179e\"],[0.4444444444444444,\"#bd3786\"],[0.5555555555555556,\"#d8576b\"],[0.6666666666666666,\"#ed7953\"],[0.7777777777777778,\"#fb9f3a\"],[0.8888888888888888,\"#fdca26\"],[1.0,\"#f0f921\"]]}],\"mesh3d\":[{\"type\":\"mesh3d\",\"colorbar\":{\"outlinewidth\":0,\"ticks\":\"\"}}],\"scatter\":[{\"fillpattern\":{\"fillmode\":\"overlay\",\"size\":10,\"solidity\":0.2},\"type\":\"scatter\"}],\"parcoords\":[{\"type\":\"parcoords\",\"line\":{\"colorbar\":{\"outlinewidth\":0,\"ticks\":\"\"}}}],\"scatterpolargl\":[{\"type\":\"scatterpolargl\",\"marker\":{\"colorbar\":{\"outlinewidth\":0,\"ticks\":\"\"}}}],\"bar\":[{\"error_x\":{\"color\":\"#2a3f5f\"},\"error_y\":{\"color\":\"#2a3f5f\"},\"marker\":{\"line\":{\"color\":\"#E5ECF6\",\"width\":0.5},\"pattern\":{\"fillmode\":\"overlay\",\"size\":10,\"solidity\":0.2}},\"type\":\"bar\"}],\"scattergeo\":[{\"type\":\"scattergeo\",\"marker\":{\"colorbar\":{\"outlinewidth\":0,\"ticks\":\"\"}}}],\"scatterpolar\":[{\"type\":\"scatterpolar\",\"marker\":{\"colorbar\":{\"outlinewidth\":0,\"ticks\":\"\"}}}],\"histogram\":[{\"marker\":{\"pattern\":{\"fillmode\":\"overlay\",\"size\":10,\"solidity\":0.2}},\"type\":\"histogram\"}],\"scattergl\":[{\"type\":\"scattergl\",\"marker\":{\"colorbar\":{\"outlinewidth\":0,\"ticks\":\"\"}}}],\"scatter3d\":[{\"type\":\"scatter3d\",\"line\":{\"colorbar\":{\"outlinewidth\":0,\"ticks\":\"\"}},\"marker\":{\"colorbar\":{\"outlinewidth\":0,\"ticks\":\"\"}}}],\"scattermapbox\":[{\"type\":\"scattermapbox\",\"marker\":{\"colorbar\":{\"outlinewidth\":0,\"ticks\":\"\"}}}],\"scatterternary\":[{\"type\":\"scatterternary\",\"marker\":{\"colorbar\":{\"outlinewidth\":0,\"ticks\":\"\"}}}],\"scattercarpet\":[{\"type\":\"scattercarpet\",\"marker\":{\"colorbar\":{\"outlinewidth\":0,\"ticks\":\"\"}}}],\"carpet\":[{\"aaxis\":{\"endlinecolor\":\"#2a3f5f\",\"gridcolor\":\"white\",\"linecolor\":\"white\",\"minorgridcolor\":\"white\",\"startlinecolor\":\"#2a3f5f\"},\"baxis\":{\"endlinecolor\":\"#2a3f5f\",\"gridcolor\":\"white\",\"linecolor\":\"white\",\"minorgridcolor\":\"white\",\"startlinecolor\":\"#2a3f5f\"},\"type\":\"carpet\"}],\"table\":[{\"cells\":{\"fill\":{\"color\":\"#EBF0F8\"},\"line\":{\"color\":\"white\"}},\"header\":{\"fill\":{\"color\":\"#C8D4E3\"},\"line\":{\"color\":\"white\"}},\"type\":\"table\"}],\"barpolar\":[{\"marker\":{\"line\":{\"color\":\"#E5ECF6\",\"width\":0.5},\"pattern\":{\"fillmode\":\"overlay\",\"size\":10,\"solidity\":0.2}},\"type\":\"barpolar\"}],\"pie\":[{\"automargin\":true,\"type\":\"pie\"}]},\"layout\":{\"autotypenumbers\":\"strict\",\"colorway\":[\"#636efa\",\"#EF553B\",\"#00cc96\",\"#ab63fa\",\"#FFA15A\",\"#19d3f3\",\"#FF6692\",\"#B6E880\",\"#FF97FF\",\"#FECB52\"],\"font\":{\"color\":\"#2a3f5f\"},\"hovermode\":\"closest\",\"hoverlabel\":{\"align\":\"left\"},\"paper_bgcolor\":\"white\",\"plot_bgcolor\":\"#E5ECF6\",\"polar\":{\"bgcolor\":\"#E5ECF6\",\"angularaxis\":{\"gridcolor\":\"white\",\"linecolor\":\"white\",\"ticks\":\"\"},\"radialaxis\":{\"gridcolor\":\"white\",\"linecolor\":\"white\",\"ticks\":\"\"}},\"ternary\":{\"bgcolor\":\"#E5ECF6\",\"aaxis\":{\"gridcolor\":\"white\",\"linecolor\":\"white\",\"ticks\":\"\"},\"baxis\":{\"gridcolor\":\"white\",\"linecolor\":\"white\",\"ticks\":\"\"},\"caxis\":{\"gridcolor\":\"white\",\"linecolor\":\"white\",\"ticks\":\"\"}},\"coloraxis\":{\"colorbar\":{\"outlinewidth\":0,\"ticks\":\"\"}},\"colorscale\":{\"sequential\":[[0.0,\"#0d0887\"],[0.1111111111111111,\"#46039f\"],[0.2222222222222222,\"#7201a8\"],[0.3333333333333333,\"#9c179e\"],[0.4444444444444444,\"#bd3786\"],[0.5555555555555556,\"#d8576b\"],[0.6666666666666666,\"#ed7953\"],[0.7777777777777778,\"#fb9f3a\"],[0.8888888888888888,\"#fdca26\"],[1.0,\"#f0f921\"]],\"sequentialminus\":[[0.0,\"#0d0887\"],[0.1111111111111111,\"#46039f\"],[0.2222222222222222,\"#7201a8\"],[0.3333333333333333,\"#9c179e\"],[0.4444444444444444,\"#bd3786\"],[0.5555555555555556,\"#d8576b\"],[0.6666666666666666,\"#ed7953\"],[0.7777777777777778,\"#fb9f3a\"],[0.8888888888888888,\"#fdca26\"],[1.0,\"#f0f921\"]],\"diverging\":[[0,\"#8e0152\"],[0.1,\"#c51b7d\"],[0.2,\"#de77ae\"],[0.3,\"#f1b6da\"],[0.4,\"#fde0ef\"],[0.5,\"#f7f7f7\"],[0.6,\"#e6f5d0\"],[0.7,\"#b8e186\"],[0.8,\"#7fbc41\"],[0.9,\"#4d9221\"],[1,\"#276419\"]]},\"xaxis\":{\"gridcolor\":\"white\",\"linecolor\":\"white\",\"ticks\":\"\",\"title\":{\"standoff\":15},\"zerolinecolor\":\"white\",\"automargin\":true,\"zerolinewidth\":2},\"yaxis\":{\"gridcolor\":\"white\",\"linecolor\":\"white\",\"ticks\":\"\",\"title\":{\"standoff\":15},\"zerolinecolor\":\"white\",\"automargin\":true,\"zerolinewidth\":2},\"scene\":{\"xaxis\":{\"backgroundcolor\":\"#E5ECF6\",\"gridcolor\":\"white\",\"linecolor\":\"white\",\"showbackground\":true,\"ticks\":\"\",\"zerolinecolor\":\"white\",\"gridwidth\":2},\"yaxis\":{\"backgroundcolor\":\"#E5ECF6\",\"gridcolor\":\"white\",\"linecolor\":\"white\",\"showbackground\":true,\"ticks\":\"\",\"zerolinecolor\":\"white\",\"gridwidth\":2},\"zaxis\":{\"backgroundcolor\":\"#E5ECF6\",\"gridcolor\":\"white\",\"linecolor\":\"white\",\"showbackground\":true,\"ticks\":\"\",\"zerolinecolor\":\"white\",\"gridwidth\":2}},\"shapedefaults\":{\"line\":{\"color\":\"#2a3f5f\"}},\"annotationdefaults\":{\"arrowcolor\":\"#2a3f5f\",\"arrowhead\":0,\"arrowwidth\":1},\"geo\":{\"bgcolor\":\"white\",\"landcolor\":\"#E5ECF6\",\"subunitcolor\":\"white\",\"showland\":true,\"showlakes\":true,\"lakecolor\":\"white\"},\"title\":{\"x\":0.05},\"mapbox\":{\"style\":\"light\"}}},\"xaxis\":{\"anchor\":\"y\",\"domain\":[0.0,1.0],\"title\":{\"text\":\"DISTRICT NAME\"}},\"yaxis\":{\"anchor\":\"x\",\"domain\":[0.0,1.0],\"title\":{\"text\":\"Number of Schools\"}},\"legend\":{\"title\":{\"text\":\"MIP_Status\"},\"tracegroupgap\":0},\"title\":{\"text\":\"Number of Schools by District and MIP Status\"},\"barmode\":\"relative\"},                        {\"responsive\": true}                    ).then(function(){\n",
              "                            \n",
              "var gd = document.getElementById('4532a6c5-5caa-424c-8fa1-9efb081be8ed');\n",
              "var x = new MutationObserver(function (mutations, observer) {{\n",
              "        var display = window.getComputedStyle(gd).display;\n",
              "        if (!display || display === 'none') {{\n",
              "            console.log([gd, 'removed!']);\n",
              "            Plotly.purge(gd);\n",
              "            observer.disconnect();\n",
              "        }}\n",
              "}});\n",
              "\n",
              "// Listen for the removal of the full notebook cells\n",
              "var notebookContainer = gd.closest('#notebook-container');\n",
              "if (notebookContainer) {{\n",
              "    x.observe(notebookContainer, {childList: true});\n",
              "}}\n",
              "\n",
              "// Listen for the clearing of the current output cell\n",
              "var outputEl = gd.closest('.output');\n",
              "if (outputEl) {{\n",
              "    x.observe(outputEl, {childList: true});\n",
              "}}\n",
              "\n",
              "                        })                };                            </script>        </div>\n",
              "</body>\n",
              "</html>"
            ]
          },
          "metadata": {}
        }
      ]
    }
  ]
}